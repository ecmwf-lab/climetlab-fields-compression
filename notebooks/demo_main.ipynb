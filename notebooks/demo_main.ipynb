{
 "cells": [
  {
   "cell_type": "code",
   "execution_count": null,
   "id": "arabic-sally",
   "metadata": {},
   "outputs": [],
   "source": [
    "import climetlab as cml"
   ]
  },
  {
   "cell_type": "code",
   "execution_count": null,
   "id": "affiliated-binding",
   "metadata": {},
   "outputs": [],
   "source": [
    "model='atmospheric-model'\n",
    "levtype='sfc'\n",
    "levels=None\n",
    "param=['tp', '2t']\n",
    "step=[12]\n",
    "\n",
    "cmlds = cml.load_dataset(\n",
    "    \"climetlab-fields-compression\",\n",
    "    model=model,\n",
    "    levtype=levtype,\n",
    "    levels=levels,\n",
    "    param=param,\n",
    "    step=step\n",
    ")"
   ]
  },
  {
   "cell_type": "code",
   "execution_count": null,
   "id": "boring-bryan",
   "metadata": {},
   "outputs": [],
   "source": [
    "ds = cmlds\n",
    "ds"
   ]
  },
  {
   "cell_type": "code",
   "execution_count": null,
   "id": "9b293e0a",
   "metadata": {},
   "outputs": [],
   "source": [
    "ds.to_xarray()"
   ]
  },
  {
   "cell_type": "code",
   "execution_count": null,
   "id": "218ac4b0",
   "metadata": {},
   "outputs": [],
   "source": [
    "cml.plot_map(ds[0])"
   ]
  },
  {
   "cell_type": "code",
   "execution_count": null,
   "id": "a11484f9",
   "metadata": {},
   "outputs": [],
   "source": [
    "cml.plot_map(ds[1])"
   ]
  },
  {
   "cell_type": "code",
   "execution_count": null,
   "id": "85fc6b31",
   "metadata": {},
   "outputs": [],
   "source": []
  }
 ],
 "metadata": {
  "kernelspec": {
   "display_name": "Python 3.9.12 ('climetlab-fields-compression')",
   "language": "python",
   "name": "python3"
  },
  "language_info": {
   "codemirror_mode": {
    "name": "ipython",
    "version": 3
   },
   "file_extension": ".py",
   "mimetype": "text/x-python",
   "name": "python",
   "nbconvert_exporter": "python",
   "pygments_lexer": "ipython3",
   "version": "3.9.12"
  },
  "vscode": {
   "interpreter": {
    "hash": "87bc99b036df2b4b6ba56427c3846ab08207a58c9673c7d2c1d4170012303ead"
   }
  }
 },
 "nbformat": 4,
 "nbformat_minor": 5
}
